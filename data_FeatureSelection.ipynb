{
 "cells": [
  {
   "cell_type": "markdown",
   "metadata": {},
   "source": [
    "### Importing Libraries"
   ]
  },
  {
   "cell_type": "code",
   "execution_count": 1,
   "metadata": {},
   "outputs": [],
   "source": [
    "import warnings\n",
    "warnings.filterwarnings('ignore')\n",
    "import numpy as np\n",
    "import pandas as pd\n",
    "import matplotlib.pyplot as plt\n",
    "import seaborn as sns\n",
    "from sklearn import set_config\n",
    "import xgboost as xgb\n",
    "from sklearn.model_selection import RandomizedSearchCV\n",
    "from sklearn.model_selection import train_test_split\n",
    "import time\n",
    "from mrmr import mrmr_regression\n",
    "sns.set_style('whitegrid')\n",
    "set_config(transform_output = \"pandas\")"
   ]
  },
  {
   "cell_type": "markdown",
   "metadata": {},
   "source": [
    "### Reading the training data"
   ]
  },
  {
   "cell_type": "code",
   "execution_count": 2,
   "metadata": {},
   "outputs": [],
   "source": [
    "train_prep=pd.read_csv('./train_prep1.csv')\n",
    "target_1=pd.read_csv('./target_1.csv')"
   ]
  },
  {
   "cell_type": "code",
   "execution_count": 3,
   "metadata": {},
   "outputs": [
    {
     "data": {
      "text/plain": [
       "41"
      ]
     },
     "execution_count": 3,
     "metadata": {},
     "output_type": "execute_result"
    }
   ],
   "source": [
    "len(train_prep.columns)"
   ]
  },
  {
   "cell_type": "code",
   "execution_count": 4,
   "metadata": {},
   "outputs": [],
   "source": [
    "train_prep=train_prep.drop([\"Unnamed: 0\"],axis=1)"
   ]
  },
  {
   "cell_type": "code",
   "execution_count": 5,
   "metadata": {},
   "outputs": [],
   "source": [
    "target_1=target_1.drop(['Unnamed: 0'],axis=1)"
   ]
  },
  {
   "cell_type": "code",
   "execution_count": 6,
   "metadata": {},
   "outputs": [],
   "source": [
    "def select_train_split(X,y,k):\n",
    "    selected_features = mrmr_regression(X=X, y=y, K=k)\n",
    "    train_X, test_X,train_y,test_y= train_test_split(\n",
    "    X[selected_features],y, train_size=0.95, shuffle=False)\n",
    "    return train_X,test_X,train_y,test_y"
   ]
  },
  {
   "cell_type": "code",
   "execution_count": 7,
   "metadata": {},
   "outputs": [],
   "source": [
    "def generate_random_search(X,y,k):\n",
    "    train_X,test_X,train_y,test_y=select_train_split(X,y,k)\n",
    "    train, val, trainy, valy = train_test_split(\n",
    "    train_X, train_y, train_size=0.9,shuffle=False\n",
    ")\n",
    "    xgb_params = {\n",
    "    \"n_estimators\": [10, 50, 100, 200],\n",
    "    \"subsample\": [0.6, 0.8, 1],\n",
    "    \"learning_rate\": [0.01, 0.1, 0.5, 1],\n",
    "    \"gamma\": [0.01, 0.1, 1, 5],\n",
    "    \"alpha\": [0, 0.1, 0.5]\n",
    "}\n",
    "\n",
    "    xgb_regressor = xgb.XGBRegressor()\n",
    "    random_search = RandomizedSearchCV(estimator=xgb_regressor, param_distributions=xgb_params,\n",
    "                                   scoring='neg_mean_squared_error', n_iter=10, cv=3, verbose=1)\n",
    "    random_search.fit(train, trainy)\n",
    "    return random_search"
   ]
  },
  {
   "cell_type": "code",
   "execution_count": 8,
   "metadata": {},
   "outputs": [
    {
     "name": "stderr",
     "output_type": "stream",
     "text": [
      "100%|██████████| 20/20 [00:58<00:00,  2.93s/it]\n"
     ]
    },
    {
     "name": "stdout",
     "output_type": "stream",
     "text": [
      "Fitting 3 folds for each of 10 candidates, totalling 30 fits\n"
     ]
    },
    {
     "name": "stderr",
     "output_type": "stream",
     "text": [
      "100%|██████████| 25/25 [00:58<00:00,  2.34s/it]\n"
     ]
    },
    {
     "name": "stdout",
     "output_type": "stream",
     "text": [
      "Fitting 3 folds for each of 10 candidates, totalling 30 fits\n"
     ]
    },
    {
     "name": "stderr",
     "output_type": "stream",
     "text": [
      "100%|██████████| 30/30 [01:00<00:00,  2.02s/it]\n"
     ]
    },
    {
     "name": "stdout",
     "output_type": "stream",
     "text": [
      "Fitting 3 folds for each of 10 candidates, totalling 30 fits\n"
     ]
    },
    {
     "name": "stderr",
     "output_type": "stream",
     "text": [
      "100%|██████████| 35/35 [01:26<00:00,  2.48s/it]\n"
     ]
    },
    {
     "name": "stdout",
     "output_type": "stream",
     "text": [
      "Fitting 3 folds for each of 10 candidates, totalling 30 fits\n"
     ]
    }
   ],
   "source": [
    "k_list = [20, 25, 30, 35]\n",
    "results = []\n",
    "for k in k_list:\n",
    "    score = generate_random_search(train_prep, target_1,k).best_score_\n",
    "    results.append({'k_value': k, 'score': score})\n",
    "df = pd.DataFrame(results)\n",
    "df=df['score'].sort_values(ascending=False)\n"
   ]
  },
  {
   "cell_type": "code",
   "execution_count": 10,
   "metadata": {},
   "outputs": [
    {
     "data": {
      "text/plain": [
       "[{'k_value': 20, 'score': -55889.60508412733},\n",
       " {'k_value': 25, 'score': -47321.22890232056},\n",
       " {'k_value': 30, 'score': -55145.836657613334},\n",
       " {'k_value': 35, 'score': -42574.11596227713}]"
      ]
     },
     "execution_count": 10,
     "metadata": {},
     "output_type": "execute_result"
    }
   ],
   "source": [
    "results"
   ]
  },
  {
   "cell_type": "code",
   "execution_count": 11,
   "metadata": {},
   "outputs": [
    {
     "name": "stderr",
     "output_type": "stream",
     "text": [
      "100%|██████████| 40/40 [01:14<00:00,  1.86s/it]\n"
     ]
    },
    {
     "name": "stdout",
     "output_type": "stream",
     "text": [
      "Fitting 3 folds for each of 10 candidates, totalling 30 fits\n",
      "score : -40843.05399054429\n"
     ]
    }
   ],
   "source": [
    "score = generate_random_search(train_prep, target_1,40).best_score_\n",
    "print(\"score :\",score)"
   ]
  },
  {
   "cell_type": "code",
   "execution_count": 12,
   "metadata": {},
   "outputs": [
    {
     "name": "stderr",
     "output_type": "stream",
     "text": [
      "100%|██████████| 40/40 [01:40<00:00,  2.51s/it]\n"
     ]
    },
    {
     "name": "stdout",
     "output_type": "stream",
     "text": [
      "Fitting 3 folds for each of 10 candidates, totalling 30 fits\n"
     ]
    }
   ],
   "source": [
    "random_search = generate_random_search(train_prep, target_1,40)"
   ]
  },
  {
   "cell_type": "code",
   "execution_count": null,
   "metadata": {},
   "outputs": [],
   "source": [
    "import xgboost as xgb\n",
    "\n",
    "dtrain = xgb.DMatrix(train, label=trainy)\n",
    "dval = xgb.DMatrix(val, label=valy)\n",
    "dtest = xgb.DMatrix(test_X, label=test_y)\n",
    "params = {\n",
    "    'objective': 'reg:squarederror',\n",
    "    'eval_metric': 'rmse',  \n",
    "    'max_depth': 5, \n",
    "    'learning_rate': 0.1, \n",
    "    'subsample': 0.8,  \n",
    "    'colsample_bytree': 0.8  \n",
    "}\n",
    "\n",
    "num_round = 1000\n",
    "watchlist = [(dtrain, 'train'), (dval, 'validation')] \n",
    "bst = xgb.train(params, dtrain, num_round, evals=watchlist)\n",
    "y_pred = bst.predict(dtest)\n",
    "from sklearn.metrics import mean_squared_error\n",
    "rmse = mean_squared_error(test_y, y_pred, squared=False)\n",
    "print(f\"Root Mean Squared Error on Test Set: {rmse}\")"
   ]
  }
 ],
 "metadata": {
  "kernelspec": {
   "display_name": ".venv",
   "language": "python",
   "name": "python3"
  },
  "language_info": {
   "codemirror_mode": {
    "name": "ipython",
    "version": 3
   },
   "file_extension": ".py",
   "mimetype": "text/x-python",
   "name": "python",
   "nbconvert_exporter": "python",
   "pygments_lexer": "ipython3",
   "version": "3.11.5"
  }
 },
 "nbformat": 4,
 "nbformat_minor": 2
}
